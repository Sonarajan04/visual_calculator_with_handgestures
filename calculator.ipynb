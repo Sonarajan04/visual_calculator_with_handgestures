{
 "cells": [
  {
   "cell_type": "code",
   "execution_count": 8,
   "metadata": {},
   "outputs": [],
   "source": [
    "import cv2\n",
    "import mediapipe as mp"
   ]
  },
  {
   "cell_type": "code",
   "execution_count": 9,
   "metadata": {},
   "outputs": [],
   "source": [
    "mpHands = mp.solutions.hands\n",
    "hands = mpHands.Hands()\n",
    "mpDraw = mp.solutions.drawing_utils"
   ]
  },
  {
   "cell_type": "code",
   "execution_count": 10,
   "metadata": {},
   "outputs": [],
   "source": [
    "cam = cv2.VideoCapture(0)\n",
    "x = []\n",
    "y = []"
   ]
  },
  {
   "cell_type": "code",
   "execution_count": 12,
   "metadata": {},
   "outputs": [],
   "source": [
    "text = \"\"\n",
    "k = [0, 0, 0, 0, 0, 0, 0, 0, 0, 0, 0, 0, 0, 0, 0, 0]\n",
    "\n",
    "idset = [\"\", \"1\", \"12\", \"123\", \"1234\", \"01234\", \"0\", \"01\", \"012\", \"0123\", \"04\", \"4\", \"34\", \"014\", \"14\", \"234\"]\n",
    "op = [\"\", \"1\", \"2\", \"3\", \"4\", \"5\", \"6\", \"7\", \"8\", \"9\", \"0\", \"+\", \"-\",\"*\",\"/\", \"=\"]"
   ]
  },
  {
   "cell_type": "code",
   "execution_count": 13,
   "metadata": {},
   "outputs": [],
   "source": [
    "while True:\n",
    "    success, frame = cam.read()\n",
    "    img = cv2.flip(frame, 1)\n",
    "    imgRGB = cv2.cvtColor(img, cv2.COLOR_BGR2RGB)\n",
    "    results = hands.process(imgRGB)\n",
    "\n",
    "    if results.multi_hand_landmarks:\n",
    "        for handLms in results.multi_hand_landmarks:\n",
    "            for id, lm in enumerate(handLms.landmark):\n",
    "                h, w, c = img.shape\n",
    "\n",
    "                if id == 0:\n",
    "                    x = []\n",
    "                    y = []\n",
    "                x.append(int((lm.x) * w))\n",
    "                y.append(int((1 - lm.y) * h))\n",
    "\n",
    "                if len(y) > 20:\n",
    "                    gesture_id = \"\"\n",
    "                    big = [x[3], y[8], y[12], y[16], y[20]]\n",
    "                    small = [x[4], y[6], y[10], y[14], y[18]]\n",
    "\n",
    "                    for _ in range(len(big)):\n",
    "                        if big[_] > small[_]:\n",
    "                            gesture_id += str(_)\n",
    "\n",
    "                    k[idset.index(gesture_id)] += 1\n",
    "                    for i in range(len(k)):\n",
    "                        if k[i] > 20:\n",
    "                            if i == 15:\n",
    "                                ans = str(eval(text))\n",
    "                                text = \"=\" + ans\n",
    "                                for j in range(len(k)):\n",
    "                                    k[j] = 0\n",
    "                            else:\n",
    "                                text += op[i]\n",
    "\n",
    "                                for j in range(len(k)):\n",
    "                                    k[j] = 0\n",
    "        cv2.putText(img, text, (60, 80), cv2.FONT_HERSHEY_PLAIN, 3, (0, 0, 0), 5)\n",
    "        mpDraw.draw_landmarks(img,handLms,mpHands.HAND_CONNECTIONS)\n",
    "    else:\n",
    "        text = \" \"\n",
    "\n",
    "    cv2.imshow(\"Visual Calculator\", img)\n",
    "    \n",
    "    if cv2.waitKey(10) & 0XFF==27:\n",
    "         break\n",
    "cv2.destroyAllWindows()\n",
    "cam.release()"
   ]
  }
 ],
 "metadata": {
  "kernelspec": {
   "display_name": "base",
   "language": "python",
   "name": "python3"
  },
  "language_info": {
   "codemirror_mode": {
    "name": "ipython",
    "version": 3
   },
   "file_extension": ".py",
   "mimetype": "text/x-python",
   "name": "python",
   "nbconvert_exporter": "python",
   "pygments_lexer": "ipython3",
   "version": "3.8.8"
  }
 },
 "nbformat": 4,
 "nbformat_minor": 2
}
